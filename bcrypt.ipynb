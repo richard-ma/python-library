{
 "cells": [
  {
   "cell_type": "markdown",
   "metadata": {},
   "source": [
    "# Bcrypt\n",
    "* 密码加密存储库，用于加密存储用户密码\n",
    "\n",
    "## Bcrypt使用方法\n",
    "1. 生成哈希值，将哈希值保存在数据库\n",
    "1. 验证哈希值，将用户输入的密码传给bcrypt，计算哈希值与数据库中保存的哈希值进行比较验证用户密码\n",
    "1. Flask框架使用flask-bcrypt包\n",
    "\n",
    "## 生成和验证哈希值 \n",
    "1. 生成哈希值\n",
    "    1. 使用`gensalt()`来生成salt，计算哈希值时候需要使用\n",
    "    1. 待加密的密码必须先编码为Byte类型`.encode('utf-8')`\n",
    "    1. 使用hashpw传入password和salt来计算哈希值\n",
    "1. 验证哈希值\n",
    "    1. 获得用户输入密码\n",
    "    1. 将用户输入密码编码为Byte类型`.encode('utf-8')`\n",
    "    1. 使用checkpw传入用户输入和哈希值来验证用户输入的密码是否正确"
   ]
  },
  {
   "cell_type": "code",
   "execution_count": 2,
   "metadata": {},
   "outputs": [],
   "source": [
    "import bcrypt"
   ]
  },
  {
   "cell_type": "code",
   "execution_count": 6,
   "metadata": {},
   "outputs": [
    {
     "name": "stdout",
     "output_type": "stream",
     "text": [
      "b'$2b$12$4JUPptYYnu2.zQO6a6MMJOrVCQrf4s4w.OngzEM6bqwgqh5fj4dk6'\n"
     ]
    }
   ],
   "source": [
    "password = 'password'\n",
    "\n",
    "salt = bcrypt.gensalt() # 生成salt\n",
    "password = password.encode('utf-8') # 密码编码\n",
    "hashed_password = bcrypt.hashpw(password=password, salt=salt) # 生成哈希值，保存到数据库即可\n",
    "print(hashed_password)"
   ]
  },
  {
   "cell_type": "code",
   "execution_count": 7,
   "metadata": {},
   "outputs": [
    {
     "name": "stdout",
     "output_type": "stream",
     "text": [
      "True\n"
     ]
    }
   ],
   "source": [
    "user_input = 'password' # 用户输入正确的密码\n",
    "user_input = user_input.encode('utf-8') # 将用户输入编码\n",
    "result = bcrypt.checkpw(user_input, hashed_password) # 验证用户输入的密码\n",
    "print(result) # 验证成功"
   ]
  },
  {
   "cell_type": "code",
   "execution_count": 8,
   "metadata": {},
   "outputs": [
    {
     "name": "stdout",
     "output_type": "stream",
     "text": [
      "False\n"
     ]
    }
   ],
   "source": [
    "user_input = 'wrong_password' # 用户输入错误的密码\n",
    "user_input = user_input.encode('utf-8') # 将用户输入编码\n",
    "result = bcrypt.checkpw(user_input, hashed_password) # 验证用户输入的密码\n",
    "print(result) # 验证失败"
   ]
  },
  {
   "cell_type": "markdown",
   "metadata": {},
   "source": [
    "## Flask-Bcrypt使用方法\n",
    "1. 使用generate_password_hash来生成哈希值\n",
    "    1. 存入数据库之前要将哈希值解码为字符串`hashed_password.decode('utf-8')`\n",
    "1. 使用check_password_hash来检查用户输入"
   ]
  },
  {
   "cell_type": "code",
   "execution_count": null,
   "metadata": {},
   "outputs": [],
   "source": [
    "# 此段代码为伪代码流程，不可执行\n",
    "from flask_bcrypt import Bcrypt\n",
    "\n",
    "password = form.password.data\n",
    "\n",
    "hashed_password = bcrypt.generate_password_hash(password).decode('utf-8') # 存储前解码为字符串\n",
    "# 存储到数据库\n",
    "result = bcrypt.check_password_hash(user.password, form.password.data)"
   ]
  }
 ],
 "metadata": {
  "kernelspec": {
   "display_name": "venv",
   "language": "python",
   "name": "python3"
  },
  "language_info": {
   "codemirror_mode": {
    "name": "ipython",
    "version": 3
   },
   "file_extension": ".py",
   "mimetype": "text/x-python",
   "name": "python",
   "nbconvert_exporter": "python",
   "pygments_lexer": "ipython3",
   "version": "3.10.11"
  },
  "orig_nbformat": 4
 },
 "nbformat": 4,
 "nbformat_minor": 2
}

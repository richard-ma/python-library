{
 "cells": [
  {
   "cell_type": "markdown",
   "metadata": {},
   "source": [
    "# itsdangerous\n",
    "有时你需要把数据通过不信任的途径进行传输，该包可以对数据进行签名验证，来保证传回的数据未被篡改。\n",
    "* 生成和验证邮箱验证的验证链接\n",
    "\n",
    "## 使用方法\n",
    "1. 使用各种Serializer的dumps来将数据序列化，同时会进行数字签名\n",
    "1. 使用loads来读取传输回来的数据，进行篡改检查和还原"
   ]
  },
  {
   "cell_type": "markdown",
   "metadata": {},
   "source": [
    "## 邮件验证码生成\n",
    "1. 使用URLSafeTimedSerializer来生成一个具有时间限制的Serializer\n",
    "    1. 使用dumps将数据序列化\n",
    "    1. 写邮件发送给用户\n",
    "1. 使用这个Serializer对数据进行编码，生成邮件的token，然后发送给用户\n",
    "    1. 使用loads将数据反序列化还原，传入max_age来限制时间（秒为单位）\n",
    "    1. 如果成功则得到数据，失败则返回SignatureExpired异常，判断是否超时"
   ]
  },
  {
   "cell_type": "code",
   "execution_count": 22,
   "metadata": {},
   "outputs": [],
   "source": [
    "from itsdangerous.url_safe import URLSafeTimedSerializer\n",
    "from itsdangerous.exc import SignatureExpired"
   ]
  },
  {
   "cell_type": "code",
   "execution_count": 23,
   "metadata": {},
   "outputs": [
    {
     "name": "stdout",
     "output_type": "stream",
     "text": [
      "eyJ1c2VyIjoxfQ.ZK4lVg.uwXC3eaS7iT8wVCT8-TQPQMusdg\n"
     ]
    }
   ],
   "source": [
    "# 生成邮件token\n",
    "s = URLSafeTimedSerializer('secret')\n",
    "token = s.dumps({'user': 1})\n",
    "print(token)"
   ]
  },
  {
   "cell_type": "code",
   "execution_count": 24,
   "metadata": {},
   "outputs": [
    {
     "name": "stdout",
     "output_type": "stream",
     "text": [
      "{'user': 1}\n"
     ]
    }
   ],
   "source": [
    "# 不限时还原\n",
    "data = s.loads(token) # 还原\n",
    "print(data)"
   ]
  },
  {
   "cell_type": "code",
   "execution_count": 25,
   "metadata": {},
   "outputs": [
    {
     "name": "stdout",
     "output_type": "stream",
     "text": [
      "{'user': 1}\n"
     ]
    }
   ],
   "source": [
    "# 限时内还原\n",
    "data = s.loads(token, max_age=300) # 限时300秒\n",
    "print(data)"
   ]
  },
  {
   "cell_type": "code",
   "execution_count": 26,
   "metadata": {},
   "outputs": [
    {
     "name": "stdout",
     "output_type": "stream",
     "text": [
      "Signature age 2 > 1 seconds\n"
     ]
    }
   ],
   "source": [
    "# 超时错误\n",
    "try:\n",
    "    data = s.loads(token, max_age=1) # 限时1秒\n",
    "except SignatureExpired as e:\n",
    "    print(e.message) # 超时错误"
   ]
  }
 ],
 "metadata": {
  "kernelspec": {
   "display_name": "venv",
   "language": "python",
   "name": "python3"
  },
  "language_info": {
   "codemirror_mode": {
    "name": "ipython",
    "version": 3
   },
   "file_extension": ".py",
   "mimetype": "text/x-python",
   "name": "python",
   "nbconvert_exporter": "python",
   "pygments_lexer": "ipython3",
   "version": "3.10.11"
  },
  "orig_nbformat": 4
 },
 "nbformat": 4,
 "nbformat_minor": 2
}
